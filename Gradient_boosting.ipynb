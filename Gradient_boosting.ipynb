{
  "nbformat": 4,
  "nbformat_minor": 0,
  "metadata": {
    "colab": {
      "provenance": []
    },
    "kernelspec": {
      "name": "python3",
      "display_name": "Python 3"
    },
    "language_info": {
      "name": "python"
    }
  },
  "cells": [
    {
      "cell_type": "code",
      "source": [
        "!pip install kagglehub\n"
      ],
      "metadata": {
        "colab": {
          "base_uri": "https://localhost:8080/"
        },
        "id": "YVkvMUL08w8q",
        "outputId": "404cb5c9-6b46-4f36-ac9c-3984fb6811be"
      },
      "execution_count": null,
      "outputs": [
        {
          "output_type": "stream",
          "name": "stdout",
          "text": [
            "Requirement already satisfied: kagglehub in /usr/local/lib/python3.12/dist-packages (0.3.12)\n",
            "Requirement already satisfied: packaging in /usr/local/lib/python3.12/dist-packages (from kagglehub) (25.0)\n",
            "Requirement already satisfied: pyyaml in /usr/local/lib/python3.12/dist-packages (from kagglehub) (6.0.2)\n",
            "Requirement already satisfied: requests in /usr/local/lib/python3.12/dist-packages (from kagglehub) (2.32.4)\n",
            "Requirement already satisfied: tqdm in /usr/local/lib/python3.12/dist-packages (from kagglehub) (4.67.1)\n",
            "Requirement already satisfied: charset_normalizer<4,>=2 in /usr/local/lib/python3.12/dist-packages (from requests->kagglehub) (3.4.3)\n",
            "Requirement already satisfied: idna<4,>=2.5 in /usr/local/lib/python3.12/dist-packages (from requests->kagglehub) (3.10)\n",
            "Requirement already satisfied: urllib3<3,>=1.21.1 in /usr/local/lib/python3.12/dist-packages (from requests->kagglehub) (2.5.0)\n",
            "Requirement already satisfied: certifi>=2017.4.17 in /usr/local/lib/python3.12/dist-packages (from requests->kagglehub) (2025.8.3)\n"
          ]
        }
      ]
    },
    {
      "cell_type": "code",
      "source": [
        "import warnings\n",
        "\n",
        "warnings.filterwarnings(\"ignore\")"
      ],
      "metadata": {
        "id": "wecL9DqNbr8B"
      },
      "execution_count": null,
      "outputs": []
    },
    {
      "cell_type": "code",
      "source": [
        "import kagglehub\n",
        "\n",
        "# Download latest version\n",
        "path = kagglehub.dataset_download(\"sooyoungher/smoking-drinking-dataset\")\n",
        "\n",
        "print(\"Path to dataset files:\", path)"
      ],
      "metadata": {
        "colab": {
          "base_uri": "https://localhost:8080/"
        },
        "id": "-8l92JAV80uf",
        "outputId": "ad9ea665-2f04-421e-d5a5-1e75b40a7094"
      },
      "execution_count": null,
      "outputs": [
        {
          "output_type": "stream",
          "name": "stdout",
          "text": [
            "Path to dataset files: /kaggle/input/smoking-drinking-dataset\n"
          ]
        }
      ]
    },
    {
      "cell_type": "code",
      "source": [
        "import os\n",
        "import pandas as pd\n",
        "\n",
        "# Build full path to CSV file\n",
        "csv_path = os.path.join(path, \"smoking_driking_dataset_Ver01.csv\")  # adjust filename if needed\n",
        "\n",
        "# Load into DataFrame\n",
        "drinking_df = pd.read_csv(csv_path)\n",
        "\n",
        "# Check data\n",
        "drinking_df.head()\n"
      ],
      "metadata": {
        "colab": {
          "base_uri": "https://localhost:8080/",
          "height": 256
        },
        "id": "XDFKGiC3FWNQ",
        "outputId": "0b3fbd0e-ba96-4d8e-dbc6-ce390bb37879"
      },
      "execution_count": null,
      "outputs": [
        {
          "output_type": "execute_result",
          "data": {
            "text/plain": [
              "    sex  age  height  weight  waistline  sight_left  sight_right  hear_left  \\\n",
              "0  Male   35     170      75       90.0         1.0          1.0        1.0   \n",
              "1  Male   30     180      80       89.0         0.9          1.2        1.0   \n",
              "2  Male   40     165      75       91.0         1.2          1.5        1.0   \n",
              "3  Male   50     175      80       91.0         1.5          1.2        1.0   \n",
              "4  Male   50     165      60       80.0         1.0          1.2        1.0   \n",
              "\n",
              "   hear_right    SBP  ...  LDL_chole  triglyceride  hemoglobin  urine_protein  \\\n",
              "0         1.0  120.0  ...      126.0          92.0        17.1            1.0   \n",
              "1         1.0  130.0  ...      148.0         121.0        15.8            1.0   \n",
              "2         1.0  120.0  ...       74.0         104.0        15.8            1.0   \n",
              "3         1.0  145.0  ...      104.0         106.0        17.6            1.0   \n",
              "4         1.0  138.0  ...      117.0         104.0        13.8            1.0   \n",
              "\n",
              "   serum_creatinine  SGOT_AST  SGOT_ALT  gamma_GTP  SMK_stat_type_cd  DRK_YN  \n",
              "0               1.0      21.0      35.0       40.0               1.0       Y  \n",
              "1               0.9      20.0      36.0       27.0               3.0       N  \n",
              "2               0.9      47.0      32.0       68.0               1.0       N  \n",
              "3               1.1      29.0      34.0       18.0               1.0       N  \n",
              "4               0.8      19.0      12.0       25.0               1.0       N  \n",
              "\n",
              "[5 rows x 24 columns]"
            ],
            "text/html": [
              "\n",
              "  <div id=\"df-1ee2ce46-eb53-47ef-9d00-62e961570043\" class=\"colab-df-container\">\n",
              "    <div>\n",
              "<style scoped>\n",
              "    .dataframe tbody tr th:only-of-type {\n",
              "        vertical-align: middle;\n",
              "    }\n",
              "\n",
              "    .dataframe tbody tr th {\n",
              "        vertical-align: top;\n",
              "    }\n",
              "\n",
              "    .dataframe thead th {\n",
              "        text-align: right;\n",
              "    }\n",
              "</style>\n",
              "<table border=\"1\" class=\"dataframe\">\n",
              "  <thead>\n",
              "    <tr style=\"text-align: right;\">\n",
              "      <th></th>\n",
              "      <th>sex</th>\n",
              "      <th>age</th>\n",
              "      <th>height</th>\n",
              "      <th>weight</th>\n",
              "      <th>waistline</th>\n",
              "      <th>sight_left</th>\n",
              "      <th>sight_right</th>\n",
              "      <th>hear_left</th>\n",
              "      <th>hear_right</th>\n",
              "      <th>SBP</th>\n",
              "      <th>...</th>\n",
              "      <th>LDL_chole</th>\n",
              "      <th>triglyceride</th>\n",
              "      <th>hemoglobin</th>\n",
              "      <th>urine_protein</th>\n",
              "      <th>serum_creatinine</th>\n",
              "      <th>SGOT_AST</th>\n",
              "      <th>SGOT_ALT</th>\n",
              "      <th>gamma_GTP</th>\n",
              "      <th>SMK_stat_type_cd</th>\n",
              "      <th>DRK_YN</th>\n",
              "    </tr>\n",
              "  </thead>\n",
              "  <tbody>\n",
              "    <tr>\n",
              "      <th>0</th>\n",
              "      <td>Male</td>\n",
              "      <td>35</td>\n",
              "      <td>170</td>\n",
              "      <td>75</td>\n",
              "      <td>90.0</td>\n",
              "      <td>1.0</td>\n",
              "      <td>1.0</td>\n",
              "      <td>1.0</td>\n",
              "      <td>1.0</td>\n",
              "      <td>120.0</td>\n",
              "      <td>...</td>\n",
              "      <td>126.0</td>\n",
              "      <td>92.0</td>\n",
              "      <td>17.1</td>\n",
              "      <td>1.0</td>\n",
              "      <td>1.0</td>\n",
              "      <td>21.0</td>\n",
              "      <td>35.0</td>\n",
              "      <td>40.0</td>\n",
              "      <td>1.0</td>\n",
              "      <td>Y</td>\n",
              "    </tr>\n",
              "    <tr>\n",
              "      <th>1</th>\n",
              "      <td>Male</td>\n",
              "      <td>30</td>\n",
              "      <td>180</td>\n",
              "      <td>80</td>\n",
              "      <td>89.0</td>\n",
              "      <td>0.9</td>\n",
              "      <td>1.2</td>\n",
              "      <td>1.0</td>\n",
              "      <td>1.0</td>\n",
              "      <td>130.0</td>\n",
              "      <td>...</td>\n",
              "      <td>148.0</td>\n",
              "      <td>121.0</td>\n",
              "      <td>15.8</td>\n",
              "      <td>1.0</td>\n",
              "      <td>0.9</td>\n",
              "      <td>20.0</td>\n",
              "      <td>36.0</td>\n",
              "      <td>27.0</td>\n",
              "      <td>3.0</td>\n",
              "      <td>N</td>\n",
              "    </tr>\n",
              "    <tr>\n",
              "      <th>2</th>\n",
              "      <td>Male</td>\n",
              "      <td>40</td>\n",
              "      <td>165</td>\n",
              "      <td>75</td>\n",
              "      <td>91.0</td>\n",
              "      <td>1.2</td>\n",
              "      <td>1.5</td>\n",
              "      <td>1.0</td>\n",
              "      <td>1.0</td>\n",
              "      <td>120.0</td>\n",
              "      <td>...</td>\n",
              "      <td>74.0</td>\n",
              "      <td>104.0</td>\n",
              "      <td>15.8</td>\n",
              "      <td>1.0</td>\n",
              "      <td>0.9</td>\n",
              "      <td>47.0</td>\n",
              "      <td>32.0</td>\n",
              "      <td>68.0</td>\n",
              "      <td>1.0</td>\n",
              "      <td>N</td>\n",
              "    </tr>\n",
              "    <tr>\n",
              "      <th>3</th>\n",
              "      <td>Male</td>\n",
              "      <td>50</td>\n",
              "      <td>175</td>\n",
              "      <td>80</td>\n",
              "      <td>91.0</td>\n",
              "      <td>1.5</td>\n",
              "      <td>1.2</td>\n",
              "      <td>1.0</td>\n",
              "      <td>1.0</td>\n",
              "      <td>145.0</td>\n",
              "      <td>...</td>\n",
              "      <td>104.0</td>\n",
              "      <td>106.0</td>\n",
              "      <td>17.6</td>\n",
              "      <td>1.0</td>\n",
              "      <td>1.1</td>\n",
              "      <td>29.0</td>\n",
              "      <td>34.0</td>\n",
              "      <td>18.0</td>\n",
              "      <td>1.0</td>\n",
              "      <td>N</td>\n",
              "    </tr>\n",
              "    <tr>\n",
              "      <th>4</th>\n",
              "      <td>Male</td>\n",
              "      <td>50</td>\n",
              "      <td>165</td>\n",
              "      <td>60</td>\n",
              "      <td>80.0</td>\n",
              "      <td>1.0</td>\n",
              "      <td>1.2</td>\n",
              "      <td>1.0</td>\n",
              "      <td>1.0</td>\n",
              "      <td>138.0</td>\n",
              "      <td>...</td>\n",
              "      <td>117.0</td>\n",
              "      <td>104.0</td>\n",
              "      <td>13.8</td>\n",
              "      <td>1.0</td>\n",
              "      <td>0.8</td>\n",
              "      <td>19.0</td>\n",
              "      <td>12.0</td>\n",
              "      <td>25.0</td>\n",
              "      <td>1.0</td>\n",
              "      <td>N</td>\n",
              "    </tr>\n",
              "  </tbody>\n",
              "</table>\n",
              "<p>5 rows × 24 columns</p>\n",
              "</div>\n",
              "    <div class=\"colab-df-buttons\">\n",
              "\n",
              "  <div class=\"colab-df-container\">\n",
              "    <button class=\"colab-df-convert\" onclick=\"convertToInteractive('df-1ee2ce46-eb53-47ef-9d00-62e961570043')\"\n",
              "            title=\"Convert this dataframe to an interactive table.\"\n",
              "            style=\"display:none;\">\n",
              "\n",
              "  <svg xmlns=\"http://www.w3.org/2000/svg\" height=\"24px\" viewBox=\"0 -960 960 960\">\n",
              "    <path d=\"M120-120v-720h720v720H120Zm60-500h600v-160H180v160Zm220 220h160v-160H400v160Zm0 220h160v-160H400v160ZM180-400h160v-160H180v160Zm440 0h160v-160H620v160ZM180-180h160v-160H180v160Zm440 0h160v-160H620v160Z\"/>\n",
              "  </svg>\n",
              "    </button>\n",
              "\n",
              "  <style>\n",
              "    .colab-df-container {\n",
              "      display:flex;\n",
              "      gap: 12px;\n",
              "    }\n",
              "\n",
              "    .colab-df-convert {\n",
              "      background-color: #E8F0FE;\n",
              "      border: none;\n",
              "      border-radius: 50%;\n",
              "      cursor: pointer;\n",
              "      display: none;\n",
              "      fill: #1967D2;\n",
              "      height: 32px;\n",
              "      padding: 0 0 0 0;\n",
              "      width: 32px;\n",
              "    }\n",
              "\n",
              "    .colab-df-convert:hover {\n",
              "      background-color: #E2EBFA;\n",
              "      box-shadow: 0px 1px 2px rgba(60, 64, 67, 0.3), 0px 1px 3px 1px rgba(60, 64, 67, 0.15);\n",
              "      fill: #174EA6;\n",
              "    }\n",
              "\n",
              "    .colab-df-buttons div {\n",
              "      margin-bottom: 4px;\n",
              "    }\n",
              "\n",
              "    [theme=dark] .colab-df-convert {\n",
              "      background-color: #3B4455;\n",
              "      fill: #D2E3FC;\n",
              "    }\n",
              "\n",
              "    [theme=dark] .colab-df-convert:hover {\n",
              "      background-color: #434B5C;\n",
              "      box-shadow: 0px 1px 3px 1px rgba(0, 0, 0, 0.15);\n",
              "      filter: drop-shadow(0px 1px 2px rgba(0, 0, 0, 0.3));\n",
              "      fill: #FFFFFF;\n",
              "    }\n",
              "  </style>\n",
              "\n",
              "    <script>\n",
              "      const buttonEl =\n",
              "        document.querySelector('#df-1ee2ce46-eb53-47ef-9d00-62e961570043 button.colab-df-convert');\n",
              "      buttonEl.style.display =\n",
              "        google.colab.kernel.accessAllowed ? 'block' : 'none';\n",
              "\n",
              "      async function convertToInteractive(key) {\n",
              "        const element = document.querySelector('#df-1ee2ce46-eb53-47ef-9d00-62e961570043');\n",
              "        const dataTable =\n",
              "          await google.colab.kernel.invokeFunction('convertToInteractive',\n",
              "                                                    [key], {});\n",
              "        if (!dataTable) return;\n",
              "\n",
              "        const docLinkHtml = 'Like what you see? Visit the ' +\n",
              "          '<a target=\"_blank\" href=https://colab.research.google.com/notebooks/data_table.ipynb>data table notebook</a>'\n",
              "          + ' to learn more about interactive tables.';\n",
              "        element.innerHTML = '';\n",
              "        dataTable['output_type'] = 'display_data';\n",
              "        await google.colab.output.renderOutput(dataTable, element);\n",
              "        const docLink = document.createElement('div');\n",
              "        docLink.innerHTML = docLinkHtml;\n",
              "        element.appendChild(docLink);\n",
              "      }\n",
              "    </script>\n",
              "  </div>\n",
              "\n",
              "\n",
              "    <div id=\"df-d63fd3c3-6190-4542-96dc-3e0d309d0e58\">\n",
              "      <button class=\"colab-df-quickchart\" onclick=\"quickchart('df-d63fd3c3-6190-4542-96dc-3e0d309d0e58')\"\n",
              "                title=\"Suggest charts\"\n",
              "                style=\"display:none;\">\n",
              "\n",
              "<svg xmlns=\"http://www.w3.org/2000/svg\" height=\"24px\"viewBox=\"0 0 24 24\"\n",
              "     width=\"24px\">\n",
              "    <g>\n",
              "        <path d=\"M19 3H5c-1.1 0-2 .9-2 2v14c0 1.1.9 2 2 2h14c1.1 0 2-.9 2-2V5c0-1.1-.9-2-2-2zM9 17H7v-7h2v7zm4 0h-2V7h2v10zm4 0h-2v-4h2v4z\"/>\n",
              "    </g>\n",
              "</svg>\n",
              "      </button>\n",
              "\n",
              "<style>\n",
              "  .colab-df-quickchart {\n",
              "      --bg-color: #E8F0FE;\n",
              "      --fill-color: #1967D2;\n",
              "      --hover-bg-color: #E2EBFA;\n",
              "      --hover-fill-color: #174EA6;\n",
              "      --disabled-fill-color: #AAA;\n",
              "      --disabled-bg-color: #DDD;\n",
              "  }\n",
              "\n",
              "  [theme=dark] .colab-df-quickchart {\n",
              "      --bg-color: #3B4455;\n",
              "      --fill-color: #D2E3FC;\n",
              "      --hover-bg-color: #434B5C;\n",
              "      --hover-fill-color: #FFFFFF;\n",
              "      --disabled-bg-color: #3B4455;\n",
              "      --disabled-fill-color: #666;\n",
              "  }\n",
              "\n",
              "  .colab-df-quickchart {\n",
              "    background-color: var(--bg-color);\n",
              "    border: none;\n",
              "    border-radius: 50%;\n",
              "    cursor: pointer;\n",
              "    display: none;\n",
              "    fill: var(--fill-color);\n",
              "    height: 32px;\n",
              "    padding: 0;\n",
              "    width: 32px;\n",
              "  }\n",
              "\n",
              "  .colab-df-quickchart:hover {\n",
              "    background-color: var(--hover-bg-color);\n",
              "    box-shadow: 0 1px 2px rgba(60, 64, 67, 0.3), 0 1px 3px 1px rgba(60, 64, 67, 0.15);\n",
              "    fill: var(--button-hover-fill-color);\n",
              "  }\n",
              "\n",
              "  .colab-df-quickchart-complete:disabled,\n",
              "  .colab-df-quickchart-complete:disabled:hover {\n",
              "    background-color: var(--disabled-bg-color);\n",
              "    fill: var(--disabled-fill-color);\n",
              "    box-shadow: none;\n",
              "  }\n",
              "\n",
              "  .colab-df-spinner {\n",
              "    border: 2px solid var(--fill-color);\n",
              "    border-color: transparent;\n",
              "    border-bottom-color: var(--fill-color);\n",
              "    animation:\n",
              "      spin 1s steps(1) infinite;\n",
              "  }\n",
              "\n",
              "  @keyframes spin {\n",
              "    0% {\n",
              "      border-color: transparent;\n",
              "      border-bottom-color: var(--fill-color);\n",
              "      border-left-color: var(--fill-color);\n",
              "    }\n",
              "    20% {\n",
              "      border-color: transparent;\n",
              "      border-left-color: var(--fill-color);\n",
              "      border-top-color: var(--fill-color);\n",
              "    }\n",
              "    30% {\n",
              "      border-color: transparent;\n",
              "      border-left-color: var(--fill-color);\n",
              "      border-top-color: var(--fill-color);\n",
              "      border-right-color: var(--fill-color);\n",
              "    }\n",
              "    40% {\n",
              "      border-color: transparent;\n",
              "      border-right-color: var(--fill-color);\n",
              "      border-top-color: var(--fill-color);\n",
              "    }\n",
              "    60% {\n",
              "      border-color: transparent;\n",
              "      border-right-color: var(--fill-color);\n",
              "    }\n",
              "    80% {\n",
              "      border-color: transparent;\n",
              "      border-right-color: var(--fill-color);\n",
              "      border-bottom-color: var(--fill-color);\n",
              "    }\n",
              "    90% {\n",
              "      border-color: transparent;\n",
              "      border-bottom-color: var(--fill-color);\n",
              "    }\n",
              "  }\n",
              "</style>\n",
              "\n",
              "      <script>\n",
              "        async function quickchart(key) {\n",
              "          const quickchartButtonEl =\n",
              "            document.querySelector('#' + key + ' button');\n",
              "          quickchartButtonEl.disabled = true;  // To prevent multiple clicks.\n",
              "          quickchartButtonEl.classList.add('colab-df-spinner');\n",
              "          try {\n",
              "            const charts = await google.colab.kernel.invokeFunction(\n",
              "                'suggestCharts', [key], {});\n",
              "          } catch (error) {\n",
              "            console.error('Error during call to suggestCharts:', error);\n",
              "          }\n",
              "          quickchartButtonEl.classList.remove('colab-df-spinner');\n",
              "          quickchartButtonEl.classList.add('colab-df-quickchart-complete');\n",
              "        }\n",
              "        (() => {\n",
              "          let quickchartButtonEl =\n",
              "            document.querySelector('#df-d63fd3c3-6190-4542-96dc-3e0d309d0e58 button');\n",
              "          quickchartButtonEl.style.display =\n",
              "            google.colab.kernel.accessAllowed ? 'block' : 'none';\n",
              "        })();\n",
              "      </script>\n",
              "    </div>\n",
              "\n",
              "    </div>\n",
              "  </div>\n"
            ],
            "application/vnd.google.colaboratory.intrinsic+json": {
              "type": "dataframe",
              "variable_name": "drinking_df"
            }
          },
          "metadata": {},
          "execution_count": 66
        }
      ]
    },
    {
      "cell_type": "code",
      "source": [
        "any_null = drinking_df.isna().sum().sum()\n",
        "print(\"Any missing values:\", any_null)"
      ],
      "metadata": {
        "colab": {
          "base_uri": "https://localhost:8080/"
        },
        "id": "bxt7bff0by7H",
        "outputId": "8cbe9fce-f0fd-4cb0-fc6c-db6c0603d774"
      },
      "execution_count": null,
      "outputs": [
        {
          "output_type": "stream",
          "name": "stdout",
          "text": [
            "Any missing values: 0\n"
          ]
        }
      ]
    },
    {
      "cell_type": "code",
      "source": [
        "\n",
        "print(drinking_df.info())\n",
        "print(drinking_df.describe())\n"
      ],
      "metadata": {
        "colab": {
          "base_uri": "https://localhost:8080/"
        },
        "id": "JUykDewGUSE7",
        "outputId": "19bf9b78-b6c0-465d-ebd6-7b38feec218c"
      },
      "execution_count": null,
      "outputs": [
        {
          "output_type": "stream",
          "name": "stdout",
          "text": [
            "<class 'pandas.core.frame.DataFrame'>\n",
            "RangeIndex: 991346 entries, 0 to 991345\n",
            "Data columns (total 24 columns):\n",
            " #   Column            Non-Null Count   Dtype  \n",
            "---  ------            --------------   -----  \n",
            " 0   sex               991346 non-null  object \n",
            " 1   age               991346 non-null  int64  \n",
            " 2   height            991346 non-null  int64  \n",
            " 3   weight            991346 non-null  int64  \n",
            " 4   waistline         991346 non-null  float64\n",
            " 5   sight_left        991346 non-null  float64\n",
            " 6   sight_right       991346 non-null  float64\n",
            " 7   hear_left         991346 non-null  float64\n",
            " 8   hear_right        991346 non-null  float64\n",
            " 9   SBP               991346 non-null  float64\n",
            " 10  DBP               991346 non-null  float64\n",
            " 11  BLDS              991346 non-null  float64\n",
            " 12  tot_chole         991346 non-null  float64\n",
            " 13  HDL_chole         991346 non-null  float64\n",
            " 14  LDL_chole         991346 non-null  float64\n",
            " 15  triglyceride      991346 non-null  float64\n",
            " 16  hemoglobin        991346 non-null  float64\n",
            " 17  urine_protein     991346 non-null  float64\n",
            " 18  serum_creatinine  991346 non-null  float64\n",
            " 19  SGOT_AST          991346 non-null  float64\n",
            " 20  SGOT_ALT          991346 non-null  float64\n",
            " 21  gamma_GTP         991346 non-null  float64\n",
            " 22  SMK_stat_type_cd  991346 non-null  float64\n",
            " 23  DRK_YN            991346 non-null  object \n",
            "dtypes: float64(19), int64(3), object(2)\n",
            "memory usage: 181.5+ MB\n",
            "None\n",
            "                 age         height         weight      waistline  \\\n",
            "count  991346.000000  991346.000000  991346.000000  991346.000000   \n",
            "mean       47.614491     162.240625      63.284050      81.233358   \n",
            "std        14.181339       9.282957      12.514241      11.850323   \n",
            "min        20.000000     130.000000      25.000000       8.000000   \n",
            "25%        35.000000     155.000000      55.000000      74.100000   \n",
            "50%        45.000000     160.000000      60.000000      81.000000   \n",
            "75%        60.000000     170.000000      70.000000      87.800000   \n",
            "max        85.000000     190.000000     140.000000     999.000000   \n",
            "\n",
            "          sight_left    sight_right      hear_left     hear_right  \\\n",
            "count  991346.000000  991346.000000  991346.000000  991346.000000   \n",
            "mean        0.980834       0.978429       1.031495       1.030476   \n",
            "std         0.605949       0.604774       0.174650       0.171892   \n",
            "min         0.100000       0.100000       1.000000       1.000000   \n",
            "25%         0.700000       0.700000       1.000000       1.000000   \n",
            "50%         1.000000       1.000000       1.000000       1.000000   \n",
            "75%         1.200000       1.200000       1.000000       1.000000   \n",
            "max         9.900000       9.900000       2.000000       2.000000   \n",
            "\n",
            "                 SBP            DBP  ...      HDL_chole      LDL_chole  \\\n",
            "count  991346.000000  991346.000000  ...  991346.000000  991346.000000   \n",
            "mean      122.432498      76.052627  ...      56.936800     113.037692   \n",
            "std        14.543148       9.889365  ...      17.238479      35.842812   \n",
            "min        67.000000      32.000000  ...       1.000000       1.000000   \n",
            "25%       112.000000      70.000000  ...      46.000000      89.000000   \n",
            "50%       120.000000      76.000000  ...      55.000000     111.000000   \n",
            "75%       131.000000      82.000000  ...      66.000000     135.000000   \n",
            "max       273.000000     185.000000  ...    8110.000000    5119.000000   \n",
            "\n",
            "        triglyceride     hemoglobin  urine_protein  serum_creatinine  \\\n",
            "count  991346.000000  991346.000000  991346.000000     991346.000000   \n",
            "mean      132.141751      14.229824       1.094224          0.860467   \n",
            "std       102.196985       1.584929       0.437724          0.480530   \n",
            "min         1.000000       1.000000       1.000000          0.100000   \n",
            "25%        73.000000      13.200000       1.000000          0.700000   \n",
            "50%       106.000000      14.300000       1.000000          0.800000   \n",
            "75%       159.000000      15.400000       1.000000          1.000000   \n",
            "max      9490.000000      25.000000       6.000000         98.000000   \n",
            "\n",
            "            SGOT_AST       SGOT_ALT      gamma_GTP  SMK_stat_type_cd  \n",
            "count  991346.000000  991346.000000  991346.000000     991346.000000  \n",
            "mean       25.989308      25.755051      37.136347          1.608122  \n",
            "std        23.493386      26.308599      50.424153          0.818507  \n",
            "min         1.000000       1.000000       1.000000          1.000000  \n",
            "25%        19.000000      15.000000      16.000000          1.000000  \n",
            "50%        23.000000      20.000000      23.000000          1.000000  \n",
            "75%        28.000000      29.000000      39.000000          2.000000  \n",
            "max      9999.000000    7210.000000     999.000000          3.000000  \n",
            "\n",
            "[8 rows x 22 columns]\n"
          ]
        }
      ]
    },
    {
      "cell_type": "code",
      "source": [
        "drinking_df_with_duplicates = drinking_df.shape[0]\n",
        "drinking_df = drinking_df.drop_duplicates()\n",
        "drinking_df_without_duplicates = drinking_df.shape[0]\n",
        "\n",
        "print(\n",
        "    f\"We dropped a total of {drinking_df_with_duplicates-drinking_df_without_duplicates} entries. \\nTherefore we keep {(drinking_df_without_duplicates/drinking_df_with_duplicates)*100}% of our original data.\"\n",
        ")"
      ],
      "metadata": {
        "colab": {
          "base_uri": "https://localhost:8080/"
        },
        "id": "HbsxBu1gb9vT",
        "outputId": "5bf14fcd-3bd9-487e-eb58-e96cb0020c56"
      },
      "execution_count": null,
      "outputs": [
        {
          "output_type": "stream",
          "name": "stdout",
          "text": [
            "We dropped a total of 26 entries. \n",
            "Therefore we keep 99.99737730318174% of our original data.\n"
          ]
        }
      ]
    },
    {
      "cell_type": "code",
      "source": [
        "metric_cols = [\n",
        "    \"age\",\n",
        "    \"height\",\n",
        "    \"weight\",\n",
        "    \"waistline\",\n",
        "    \"sight_left\",\n",
        "    \"sight_right\",\n",
        "    \"SBP\",\n",
        "    \"DBP\",\n",
        "    \"BLDS\",\n",
        "    \"tot_chole\",\n",
        "    \"HDL_chole\",\n",
        "    \"LDL_chole\",\n",
        "    \"triglyceride\",\n",
        "    \"hemoglobin\",\n",
        "    \"serum_creatinine\",\n",
        "    \"SGOT_AST\",\n",
        "    \"SGOT_ALT\",\n",
        "    \"gamma_GTP\",\n",
        "]\n",
        "ordinal_cols = [\"hear_left\", \"hear_right\", \"urine_protein\", \"SMK_stat_type_cd\"]\n",
        "nominal_cols = [\"sex\", \"DRK_YN\"]\n",
        "\n",
        "print(f\"Metric Columns: \\n{metric_cols}\")\n",
        "print(f\"\\nOrdinal Columns: \\n{ordinal_cols}\")\n",
        "print(f\"\\nNominal Columns: \\n{nominal_cols}\")"
      ],
      "metadata": {
        "colab": {
          "base_uri": "https://localhost:8080/"
        },
        "id": "e2qQjjYeBJuj",
        "outputId": "c2ac9a51-a4a9-4d8d-a8c6-538b2d1b4d24"
      },
      "execution_count": null,
      "outputs": [
        {
          "output_type": "stream",
          "name": "stdout",
          "text": [
            "Metric Columns: \n",
            "['age', 'height', 'weight', 'waistline', 'sight_left', 'sight_right', 'SBP', 'DBP', 'BLDS', 'tot_chole', 'HDL_chole', 'LDL_chole', 'triglyceride', 'hemoglobin', 'serum_creatinine', 'SGOT_AST', 'SGOT_ALT', 'gamma_GTP']\n",
            "\n",
            "Ordinal Columns: \n",
            "['hear_left', 'hear_right', 'urine_protein', 'SMK_stat_type_cd']\n",
            "\n",
            "Nominal Columns: \n",
            "['sex', 'DRK_YN']\n"
          ]
        }
      ]
    },
    {
      "cell_type": "code",
      "source": [
        "smoking_df_before_outlierD = drinking_df.shape[0]\n",
        "\n",
        "columns_to_check = [\n",
        "    \"age\",\n",
        "    \"height\",\n",
        "    \"weight\",\n",
        "    \"waistline\",\n",
        "    \"sight_left\",\n",
        "    \"sight_right\",\n",
        "    \"SBP\",\n",
        "    \"DBP\",\n",
        "    \"BLDS\",\n",
        "    \"tot_chole\",\n",
        "    \"HDL_chole\",\n",
        "    \"LDL_chole\",\n",
        "    \"triglyceride\",\n",
        "    \"hemoglobin\",\n",
        "    \"serum_creatinine\",\n",
        "    \"SGOT_AST\",\n",
        "    \"SGOT_ALT\",\n",
        "    \"gamma_GTP\",\n",
        "]\n",
        "z_scores = (\n",
        "    drinking_df[columns_to_check] - drinking_df[columns_to_check].mean()\n",
        ") / drinking_df[columns_to_check].std()\n",
        "\n",
        "# 3σ Standart deviation\n",
        "threshold = 3\n",
        "outliers = np.abs(z_scores) > threshold\n",
        "outlier_columns = outliers.columns[outliers.any()]\n",
        "drinking_df_cleaned = drinking_df[~outliers.any(axis=1)]\n",
        "\n",
        "smoking_df_after_outlierD = drinking_df_cleaned.shape[0]\n",
        "\n",
        "print(\n",
        "    f\"Due to the removal of outliers the amout of entries reduced from {smoking_df_before_outlierD} to {smoking_df_after_outlierD} by {smoking_df_before_outlierD-smoking_df_after_outlierD} entries.\"\n",
        ")"
      ],
      "metadata": {
        "colab": {
          "base_uri": "https://localhost:8080/"
        },
        "id": "-5H9Kc7OcIim",
        "outputId": "e58f7818-6e64-44a9-8c74-84bb9af10f4a"
      },
      "execution_count": null,
      "outputs": [
        {
          "output_type": "stream",
          "name": "stdout",
          "text": [
            "Due to the removal of outliers the amout of entries reduced from 991320 to 904029 by 87291 entries.\n"
          ]
        }
      ]
    },
    {
      "cell_type": "code",
      "source": [
        "smoking_df_before_outlierD = drinking_df.shape[0]\n",
        "\n",
        "columns_to_check = [\n",
        "    \"age\",\n",
        "    \"height\",\n",
        "    \"weight\",\n",
        "    \"waistline\",\n",
        "    \"sight_left\",\n",
        "    \"sight_right\",\n",
        "    \"SBP\",\n",
        "    \"DBP\",\n",
        "    \"BLDS\",\n",
        "    \"tot_chole\",\n",
        "    \"HDL_chole\",\n",
        "    \"LDL_chole\",\n",
        "    \"triglyceride\",\n",
        "    \"hemoglobin\",\n",
        "    \"serum_creatinine\",\n",
        "    \"SGOT_AST\",\n",
        "    \"SGOT_ALT\",\n",
        "    \"gamma_GTP\",\n",
        "]\n",
        "\n",
        "\n",
        "z_scores = (\n",
        "    drinking_df[columns_to_check] - drinking_df[columns_to_check].mean()\n",
        ") / drinking_df[columns_to_check].std()\n",
        "\n",
        "# 3σ Standart deviation\n",
        "threshold = 3\n",
        "outliers = np.abs(z_scores) > threshold\n",
        "outlier_columns = outliers.columns[outliers.any()]\n",
        "drinking_df_cleaned = drinking_df[~outliers.any(axis=1)]\n",
        "\n",
        "smoking_df_after_outlierD = drinking_df_cleaned.shape[0]\n",
        "\n",
        "print(\n",
        "    f\"Due to the removal of outliers the amout of entries reduced from {smoking_df_before_outlierD} to {smoking_df_after_outlierD} by {smoking_df_before_outlierD-smoking_df_after_outlierD} entries.\"\n",
        ")"
      ],
      "metadata": {
        "colab": {
          "base_uri": "https://localhost:8080/"
        },
        "id": "oiP5RYQ0C3cg",
        "outputId": "fd9ecf0e-c7e3-4c1d-a91d-97fca461a098"
      },
      "execution_count": null,
      "outputs": [
        {
          "output_type": "stream",
          "name": "stdout",
          "text": [
            "Due to the removal of outliers the amout of entries reduced from 991320 to 904029 by 87291 entries.\n"
          ]
        }
      ]
    },
    {
      "cell_type": "code",
      "source": [
        "df_x, df_y = (\n",
        "    drinking_df_cleaned.drop(\"DRK_YN\", axis=1),\n",
        "    drinking_df_cleaned[[\"DRK_YN\"]],\n",
        ")\n",
        "\n",
        "df_y[\"DRK_YN\"] = df_y[\"DRK_YN\"].replace({\"Y\": 1, \"N\": 0})\n",
        "\n"
      ],
      "metadata": {
        "id": "7w7ECbdYDeM1"
      },
      "execution_count": null,
      "outputs": []
    },
    {
      "cell_type": "markdown",
      "source": [],
      "metadata": {
        "id": "c3q1Dg54ENSU"
      }
    },
    {
      "cell_type": "code",
      "source": [
        "cats = df_x.select_dtypes(exclude=np.number).columns.tolist()\n",
        "\n",
        "for col in cats:\n",
        "    df_x[col] = df_x[col].astype(\"category\")\n"
      ],
      "metadata": {
        "id": "rdv7Tfi6WS3S"
      },
      "execution_count": null,
      "outputs": []
    },
    {
      "cell_type": "code",
      "source": [
        "from sklearn.model_selection import train_test_split\n",
        "\n",
        "X_train, X_test, y_train, y_test = train_test_split(\n",
        "    df_x, df_y, test_size=0.3, random_state=1, stratify=df_y, shuffle=True\n",
        ")"
      ],
      "metadata": {
        "id": "B5fbQARWWWT1"
      },
      "execution_count": null,
      "outputs": []
    },
    {
      "cell_type": "code",
      "source": [
        "params_xgb = {\n",
        "    \"tree_method\": \"gpu_hist\", # Changed from \"cuda\" to \"gpu_hist\"\n",
        "    \"n_estimators\": 200,\n",
        "    \"learning_rate\": 0.1,\n",
        "    \"max_depth\": 5,\n",
        "    \"min_child_weight\": 1,\n",
        "    \"subsample\": 1.0,\n",
        "    \"colsample_bytree\": 1.0,\n",
        "    \"gamma\": 2,\n",
        "    \"reg_lambda\": 1,\n",
        "    \"objective\": \"binary:logistic\",\n",
        "    \"eval_metric\": \"logloss\",\n",
        "    \"random_state\": 0,\n",
        "}"
      ],
      "metadata": {
        "id": "yFz3i4-9Wjd0"
      },
      "execution_count": null,
      "outputs": []
    },
    {
      "cell_type": "code",
      "source": [
        "print(X_train.shape, y_train.shape)\n",
        "print(X_test.shape)\n",
        "print(X_train.isnull().sum().sum(), X_test.isnull().sum().sum())\n"
      ],
      "metadata": {
        "colab": {
          "base_uri": "https://localhost:8080/"
        },
        "id": "j4EGFd-kWqjO",
        "outputId": "d068c7e4-e5e3-4bd8-a7d7-ab777ed81b60"
      },
      "execution_count": null,
      "outputs": [
        {
          "output_type": "stream",
          "name": "stdout",
          "text": [
            "(632820, 23) (632820, 1)\n",
            "(271209, 23)\n",
            "0 0\n"
          ]
        }
      ]
    },
    {
      "cell_type": "code",
      "source": [
        "import xgboost as xgb\n",
        "import time\n",
        "\n",
        "# Ensure target is 1D numeric\n",
        "y_train = y_train.values.ravel().astype(int)\n",
        "y_test = y_test.values.ravel().astype(int)\n",
        "\n",
        "# Convert categorical features to numeric codes\n",
        "for col in X_train.select_dtypes(include='category').columns:\n",
        "    X_train[col] = X_train[col].cat.codes\n",
        "    X_test[col] = X_test[col].cat.codes\n",
        "\n",
        "# Ensure DataFrame is numeric\n",
        "X_train = X_train.apply(pd.to_numeric)\n",
        "X_test = X_test.apply(pd.to_numeric)\n",
        "\n",
        "# Train without enable_categorical\n",
        "params_xgb[\"tree_method\"] = \"hist\"  # Use CPU-safe method\n",
        "clf = xgb.XGBClassifier(**params_xgb)\n",
        "\n",
        "start_time_xgb = time.time()\n",
        "clf.fit(X_train, y_train)\n",
        "end_time_xgb = time.time()\n",
        "\n",
        "print(\"Training time:\", end_time_xgb - start_time_xgb)\n",
        "\n",
        "# Predictions\n",
        "predictions_xgb = clf.predict(X_test)\n"
      ],
      "metadata": {
        "id": "--ktVPUReocn"
      },
      "execution_count": null,
      "outputs": []
    },
    {
      "cell_type": "code",
      "source": [
        "from sklearn.metrics import accuracy_score, classification_report, confusion_matrix\n",
        "\n",
        "# Accuracy\n",
        "accuracy = accuracy_score(y_test, predictions_xgb)\n",
        "print(\"Accuracy:\", accuracy)\n",
        "\n",
        "# Classification report (precision, recall, f1-score)\n",
        "print(\"\\nClassification Report:\\n\", classification_report(y_test, predictions_xgb))\n",
        "\n",
        "# Confusion Matrix\n",
        "print(\"\\nConfusion Matrix:\\n\", confusion_matrix(y_test, predictions_xgb))\n",
        "\n",
        "\n",
        "print(\"F1 Score: \", f1_xgb)\n"
      ],
      "metadata": {
        "colab": {
          "base_uri": "https://localhost:8080/"
        },
        "id": "aaJjvAwRepIX",
        "outputId": "a56ad59c-bad1-4f29-b57f-c7923c4ac85b"
      },
      "execution_count": null,
      "outputs": [
        {
          "output_type": "stream",
          "name": "stdout",
          "text": [
            "Accuracy: 0.735167343266632\n",
            "\n",
            "Classification Report:\n",
            "               precision    recall  f1-score   support\n",
            "\n",
            "           0       0.74      0.74      0.74    137625\n",
            "           1       0.73      0.74      0.73    133584\n",
            "\n",
            "    accuracy                           0.74    271209\n",
            "   macro avg       0.74      0.74      0.74    271209\n",
            "weighted avg       0.74      0.74      0.74    271209\n",
            "\n",
            "\n",
            "Confusion Matrix:\n",
            " [[101184  36441]\n",
            " [ 35384  98200]]\n",
            "F1 Score:  0.7322210830459502\n"
          ]
        }
      ]
    },
    {
      "cell_type": "code",
      "source": [
        "!pip install optuna plotly\n"
      ],
      "metadata": {
        "colab": {
          "base_uri": "https://localhost:8080/"
        },
        "id": "ah6ibek5hiLw",
        "outputId": "54e99945-d428-43bb-c19b-64bf823cf8ea"
      },
      "execution_count": null,
      "outputs": [
        {
          "output_type": "stream",
          "name": "stdout",
          "text": [
            "Collecting optuna\n",
            "  Downloading optuna-4.5.0-py3-none-any.whl.metadata (17 kB)\n",
            "Requirement already satisfied: plotly in /usr/local/lib/python3.12/dist-packages (5.24.1)\n",
            "Collecting alembic>=1.5.0 (from optuna)\n",
            "  Downloading alembic-1.16.4-py3-none-any.whl.metadata (7.3 kB)\n",
            "Collecting colorlog (from optuna)\n",
            "  Downloading colorlog-6.9.0-py3-none-any.whl.metadata (10 kB)\n",
            "Requirement already satisfied: numpy in /usr/local/lib/python3.12/dist-packages (from optuna) (2.0.2)\n",
            "Requirement already satisfied: packaging>=20.0 in /usr/local/lib/python3.12/dist-packages (from optuna) (25.0)\n",
            "Requirement already satisfied: sqlalchemy>=1.4.2 in /usr/local/lib/python3.12/dist-packages (from optuna) (2.0.43)\n",
            "Requirement already satisfied: tqdm in /usr/local/lib/python3.12/dist-packages (from optuna) (4.67.1)\n",
            "Requirement already satisfied: PyYAML in /usr/local/lib/python3.12/dist-packages (from optuna) (6.0.2)\n",
            "Requirement already satisfied: tenacity>=6.2.0 in /usr/local/lib/python3.12/dist-packages (from plotly) (8.5.0)\n",
            "Requirement already satisfied: Mako in /usr/lib/python3/dist-packages (from alembic>=1.5.0->optuna) (1.1.3)\n",
            "Requirement already satisfied: typing-extensions>=4.12 in /usr/local/lib/python3.12/dist-packages (from alembic>=1.5.0->optuna) (4.14.1)\n",
            "Requirement already satisfied: greenlet>=1 in /usr/local/lib/python3.12/dist-packages (from sqlalchemy>=1.4.2->optuna) (3.2.4)\n",
            "Downloading optuna-4.5.0-py3-none-any.whl (400 kB)\n",
            "\u001b[2K   \u001b[90m━━━━━━━━━━━━━━━━━━━━━━━━━━━━━━━━━━━━━━━━\u001b[0m \u001b[32m400.9/400.9 kB\u001b[0m \u001b[31m13.6 MB/s\u001b[0m eta \u001b[36m0:00:00\u001b[0m\n",
            "\u001b[?25hDownloading alembic-1.16.4-py3-none-any.whl (247 kB)\n",
            "\u001b[2K   \u001b[90m━━━━━━━━━━━━━━━━━━━━━━━━━━━━━━━━━━━━━━━━\u001b[0m \u001b[32m247.0/247.0 kB\u001b[0m \u001b[31m12.3 MB/s\u001b[0m eta \u001b[36m0:00:00\u001b[0m\n",
            "\u001b[?25hDownloading colorlog-6.9.0-py3-none-any.whl (11 kB)\n",
            "Installing collected packages: colorlog, alembic, optuna\n",
            "Successfully installed alembic-1.16.4 colorlog-6.9.0 optuna-4.5.0\n"
          ]
        }
      ]
    }
  ]
}