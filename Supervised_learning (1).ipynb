{
  "nbformat": 4,
  "nbformat_minor": 0,
  "metadata": {
    "colab": {
      "provenance": []
    },
    "kernelspec": {
      "name": "python3",
      "display_name": "Python 3"
    },
    "language_info": {
      "name": "python"
    }
  },
  "cells": [
    {
      "cell_type": "markdown",
      "source": [
        "BASIC REGRESSION TECHNIQUES"
      ],
      "metadata": {
        "id": "E9iKUR5mawZJ"
      }
    },
    {
      "cell_type": "code",
      "execution_count": null,
      "metadata": {
        "id": "NPb3qrrYUR-E",
        "colab": {
          "base_uri": "https://localhost:8080/"
        },
        "collapsed": true,
        "outputId": "2c7f93d3-4588-41fe-ed01-a4d036a1ba93"
      },
      "outputs": [
        {
          "output_type": "stream",
          "name": "stdout",
          "text": [
            "Linear Regression Results:\n",
            "Mean Squared Error: 0.5558915986952442\n",
            "R² Score: 0.575787706032451\n"
          ]
        }
      ],
      "source": [
        "#linear_regression\n",
        "import numpy as np\n",
        "\n",
        "import pandas as pd\n",
        "import matplotlib.pyplot as plt\n",
        "from sklearn.datasets import fetch_california_housing\n",
        "from sklearn.model_selection import train_test_split\n",
        "from sklearn.preprocessing import StandardScaler\n",
        "from sklearn.metrics import mean_squared_error , r2_score\n",
        "from sklearn.linear_model import ElasticNet\n",
        "\n",
        "california =  fetch_california_housing()\n",
        "data = pd.DataFrame(california.data, columns=california.feature_names) #creating a dataframe\n",
        "data['PRICE'] =california.target #adding target column of housing price\n",
        "\n",
        "\n",
        "#using linear regression to find the relation bw x andd y using a straight line\n",
        "from sklearn.linear_model import LinearRegression\n",
        "\n",
        "#Step1\n",
        "#determining Features and Target\n",
        "X = data.drop('PRICE', axis=1)\n",
        "y = data['PRICE']\n",
        "\n",
        "#step2.....split data into training sets\n",
        "X_train , X_test , y_train , y_test = train_test_split(X,y, test_size=0.2, random_state=42)\n",
        "\n",
        "#Step3....scale features(imp for regression)\n",
        "scaler= StandardScaler()\n",
        "X_train_scaled = scaler.fit_transform(X_train)\n",
        "X_test_scaled = scaler.transform(X_test)\n",
        "\n",
        "#step4....creating_model\n",
        "lin_reg = LinearRegression()\n",
        "\n",
        "#step5..train_the_model\n",
        "lin_reg.fit(X_train_scaled, y_train)\n",
        "\n",
        "#step6....predict _on_test_data\n",
        "y_pred = lin_reg.predict(X_test_scaled)\n",
        "\n",
        "#step6...evaluate_the_model Evaluate the model\n",
        "mse = mean_squared_error(y_test, y_pred)  # Mean Squared Error\n",
        "r2 = r2_score(y_test, y_pred)            # R² Score (explained variance)\n",
        "\n",
        "#last_print_uyour_result\n",
        "print(\"Linear Regression Results:\")\n",
        "print(\"Mean Squared Error:\", mse)\n",
        "print(\"R² Score:\", r2)"
      ]
    },
    {
      "cell_type": "code",
      "source": [
        "#POLYNOMIAL_REGRESSION\n",
        "from sklearn.preprocessing import PolynomialFeatures\n",
        "from sklearn.pipeline import Pipeline\n",
        "from sklearn.linear_model import LinearRegression\n",
        "from sklearn.metrics import mean_squared_error, r2_score\n",
        "\n",
        "\n",
        "#step1....create a pipeline with linear_regression + Polynomial_features\n",
        "poly_reg = Pipeline([\n",
        "    ('poly', PolynomialFeatures(degree=2)),\n",
        "    ('linear', LinearRegression())\n",
        "])\n",
        "#step2...train_the_model\n",
        "poly_reg.fit(X_train_scaled, y_train)\n",
        "\n",
        "#step3...preict_the_values\n",
        "y_pred_poly = poly_reg.predict(X_test_scaled)\n",
        "\n",
        "#step4....evaluate_the_model\n",
        "mse_poly = mean_squared_error(y_test, y_pred_poly)\n",
        "r2_poly = r2_score(y_test, y_pred_poly )\n",
        "\n",
        "\n",
        "print(\"\\nPolynomial Regression Results:\")\n",
        "print(\"Mean Squared Error:\", mse_poly)\n",
        "print(\"R² Score:\", r2_poly)"
      ],
      "metadata": {
        "id": "WXQIU25owjYV",
        "colab": {
          "base_uri": "https://localhost:8080/"
        },
        "outputId": "2618e29f-b032-4c1d-a066-c69e9ed3ba08"
      },
      "execution_count": null,
      "outputs": [
        {
          "output_type": "stream",
          "name": "stdout",
          "text": [
            "\n",
            "Polynomial Regression Results:\n",
            "Mean Squared Error: 0.46430152383012785\n",
            "R² Score: 0.6456819729261861\n"
          ]
        }
      ]
    },
    {
      "cell_type": "code",
      "source": [
        "#Lasso_regression()\n",
        "\n",
        "\n",
        "from sklearn.linear_model import Lasso\n",
        "\n",
        "# Step1....Create Lasso model\n",
        "lasso_reg = Lasso(alpha=0.1)\n",
        "\n",
        "#Step2.... Train model\n",
        "lasso_reg.fit(X_train_scaled, y_train)\n",
        "\n",
        "# Step3.....Predict\n",
        "y_pred_lasso = lasso_reg.predict(X_test_scaled)\n",
        "\n",
        "# Step4......Evaluate\n",
        "mse_lasso = mean_squared_error(y_test, y_pred_lasso)\n",
        "r2_lasso = r2_score(y_test, y_pred_lasso)\n",
        "\n",
        "print(\"\\nLasso Regression Results:\")\n",
        "print(\"Mean Squared Error:\", mse_lasso)\n",
        "print(\"R² Score:\", r2_lasso)\n"
      ],
      "metadata": {
        "id": "X0XBefan3fa8",
        "colab": {
          "base_uri": "https://localhost:8080/"
        },
        "outputId": "c1970f04-2111-4183-f600-1708e1fe2f9a"
      },
      "execution_count": null,
      "outputs": [
        {
          "output_type": "stream",
          "name": "stdout",
          "text": [
            "\n",
            "Lasso Regression Results:\n",
            "Mean Squared Error: 0.6796290284328825\n",
            "R² Score: 0.48136113250290735\n"
          ]
        }
      ]
    },
    {
      "cell_type": "code",
      "source": [
        "from sklearn.linear_model import ElasticNet\n",
        "\n",
        "# Step1......Create Elastic Net model\n",
        "elastic_net = ElasticNet(alpha=0.1, l1_ratio=0.5)\n",
        "# alpha = regularization strength\n",
        "# l1_ratio = balance between L1 and L2 (0.5 means 50% Lasso, 50% Ridge)\n",
        "\n",
        "# Step2.....Train the model\n",
        "elastic_net.fit(X_train_scaled, y_train)\n",
        "\n",
        "#Step3......Predict on test set\n",
        "y_pred_elastic = elastic_net.predict(X_test_scaled)\n",
        "\n",
        "# Step4......Evaluate performance\n",
        "mse_elastic = mean_squared_error(y_test, y_pred_elastic)\n",
        "r2_elastic = r2_score(y_test, y_pred_elastic)\n",
        "\n",
        "print(\"\\nElastic Net Regression Results:\")\n",
        "print(\"Mean Squared Error:\", mse_elastic)\n",
        "print(\"R² Score:\", r2_elastic)\n"
      ],
      "metadata": {
        "id": "Uzscdnqz35YE",
        "colab": {
          "base_uri": "https://localhost:8080/"
        },
        "outputId": "c6ae1a30-06ca-4d1c-d876-2c5bd81e3bbc"
      },
      "execution_count": null,
      "outputs": [
        {
          "output_type": "stream",
          "name": "stdout",
          "text": [
            "\n",
            "Elastic Net Regression Results:\n",
            "Mean Squared Error: 0.6358566879910782\n",
            "R² Score: 0.5147647043408876\n"
          ]
        }
      ]
    },
    {
      "cell_type": "code",
      "source": [
        "print(\"\\nModel Comparison:\")\n",
        "print(f\"Linear Regression R²: {r2}\")\n",
        "print(f\"Polynomial Regression R²: {r2_poly}\")\n",
        "print(f\"Elastic Net Regression R²: {r2_elastic}\")\n",
        "print(f\"Lasso Regression R²: {r2_lasso}\")\n"
      ],
      "metadata": {
        "colab": {
          "base_uri": "https://localhost:8080/"
        },
        "id": "yPNQ9-5gbhvC",
        "outputId": "091c5ba1-c667-4642-b160-b882c63541ea"
      },
      "execution_count": null,
      "outputs": [
        {
          "output_type": "stream",
          "name": "stdout",
          "text": [
            "\n",
            "Model Comparison:\n",
            "Linear Regression R²: 0.575787706032451\n",
            "Polynomial Regression R²: 0.6456819729261861\n",
            "Elastic Net Regression R²: 0.5147647043408876\n",
            "Lasso Regression R²: 0.48136113250290735\n"
          ]
        }
      ]
    },
    {
      "cell_type": "code",
      "source": [],
      "metadata": {
        "id": "43JhZZlXcEat"
      },
      "execution_count": null,
      "outputs": []
    },
    {
      "cell_type": "code",
      "source": [],
      "metadata": {
        "id": "sgKC6DyLcE91"
      },
      "execution_count": null,
      "outputs": []
    },
    {
      "cell_type": "markdown",
      "source": [
        "BASIC CLASSIFICATION TECHNIQUES"
      ],
      "metadata": {
        "id": "3qNtp_-ocGJp"
      }
    },
    {
      "cell_type": "code",
      "source": [
        "from sklearn.linear_model import LogisticRegression\n",
        "from  sklearn.metrics import accuracy_score , classification_report , confusion_matrix\n",
        "from sklearn.datasets import load_breast_cancer\n",
        "\n",
        "#step1...load_dataset\n",
        "X , y = load_breast_cancer(return_X_y=True)\n",
        "\n",
        "#step2...split_data\n",
        "X_train , X_test , y_train , y_test = train_test_split(X,y, test_size=0.2, random_state=42)\n",
        "\n",
        "#step3...scale_features\n",
        "scaler = StandardScaler()\n",
        "X_train_scaled = scaler.fit_transform(X_train)\n",
        "X_test_scaled = scaler.transform(X_test)\n",
        "\n",
        "#step4....create_model\n",
        "log_reg = LogisticRegression(max_iter=1000)\n",
        "log_reg.fit(X_train_scaled, y_train)\n",
        "\n",
        "#step5.....predict\n",
        "y_pred = log_reg.predict(X_test_scaled)\n",
        "\n",
        "#step6....evaluate\n",
        "print(\"Logistic Regression Results:\")\n",
        "print(\"Accuracy:\", accuracy_score(y_test, y_pred))\n",
        "print(\"Classification Report:\\n\", classification_report(y_test, y_pred))\n",
        "print(\"Confusion Matrix:\\n\", confusion_matrix(y_test, y_pred))\n"
      ],
      "metadata": {
        "colab": {
          "base_uri": "https://localhost:8080/"
        },
        "id": "yu-ESgqfcFBX",
        "outputId": "e7be4ba6-3d7f-412c-fcbe-acc1bf5dcd36"
      },
      "execution_count": null,
      "outputs": [
        {
          "output_type": "stream",
          "name": "stdout",
          "text": [
            "Logistic Regression Results:\n",
            "Accuracy: 0.9736842105263158\n",
            "Classification Report:\n",
            "               precision    recall  f1-score   support\n",
            "\n",
            "           0       0.98      0.95      0.96        43\n",
            "           1       0.97      0.99      0.98        71\n",
            "\n",
            "    accuracy                           0.97       114\n",
            "   macro avg       0.97      0.97      0.97       114\n",
            "weighted avg       0.97      0.97      0.97       114\n",
            "\n",
            "Confusion Matrix:\n",
            " [[41  2]\n",
            " [ 1 70]]\n"
          ]
        }
      ]
    },
    {
      "cell_type": "code",
      "source": [
        "from sklearn.neighbors import KNeighborsClassifier\n",
        "\n",
        "#step1.... create_KNN_model\n",
        "knn = KNeighborsClassifier(n_neighbors=5)\n",
        "\n",
        "#step2....train\n",
        "knn.fit(X_train_scaled, y_train)\n",
        "\n",
        "#step3....predict and evaluatw\n",
        "y_pred_knn = knn.predict(X_test_scaled)\n",
        "print(\"kNN Accuracy:\", accuracy_score(y_test, y_pred_knn))\n"
      ],
      "metadata": {
        "colab": {
          "base_uri": "https://localhost:8080/"
        },
        "id": "V3V7Aeegggyg",
        "outputId": "eb7ca319-47f6-4914-8a66-5b04ceadbda3"
      },
      "execution_count": null,
      "outputs": [
        {
          "output_type": "stream",
          "name": "stdout",
          "text": [
            "kNN Accuracy: 0.9473684210526315\n"
          ]
        }
      ]
    },
    {
      "cell_type": "code",
      "source": [
        "from sklearn.svm import SVC\n",
        "from sklearn.datasets import load_breast_cancer\n",
        "from sklearn.model_selection import train_test_split\n",
        "from sklearn.preprocessing import StandardScaler\n",
        "from sklearn.metrics import accuracy_score\n",
        "\n",
        "# Step 1 Load dataset\n",
        "X, y = load_breast_cancer(return_X_y=True)\n",
        "\n",
        "# Step 2:\n",
        "X_train, X_test, y_train, y_test = train_test_split(X, y, test_size=0.2, random_state=42)\n",
        "\n",
        "# Step 3.....scaling\n",
        "scaler = StandardScaler()\n",
        "X_train_scaled = scaler.fit_transform(X_train)\n",
        "X_test_scaled = scaler.transform(X_test)\n",
        "\n",
        "# Step 4: Create and train SVM model\n",
        "svm = SVC(kernel='rbf', C=1)  # C=1 controls regularization (higher C = less regularization)\n",
        "svm.fit(X_train_scaled, y_train)\n",
        "\n",
        "# Step 5: Make predictions and evaluate\n",
        "y_pred_svm = svm.predict(X_test_scaled)\n",
        "print(\"SVM Accuracy:\", accuracy_score(y_test, y_pred_svm))\n"
      ],
      "metadata": {
        "colab": {
          "base_uri": "https://localhost:8080/"
        },
        "id": "KSVbGuxuw4Bo",
        "outputId": "16c162fc-9515-4327-d8cd-55261372e65c"
      },
      "execution_count": null,
      "outputs": [
        {
          "output_type": "stream",
          "name": "stdout",
          "text": [
            "SVM Accuracy: 0.9824561403508771\n"
          ]
        }
      ]
    },
    {
      "cell_type": "code",
      "source": [
        "from sklearn.tree import DecisionTreeClassifier\n",
        "from sklearn.metrics import accuracy_score\n",
        "from sklearn.datasets import load_breast_cancer\n",
        "from sklearn.model_selection import train_test_split\n",
        "from sklearn.preprocessing import StandardScaler\n",
        "from sklearn.metrics import accuracy_score\n",
        "\n",
        "# Step 1 Load dataset\n",
        "X, y = load_breast_cancer(return_X_y=True)\n",
        "\n",
        "# Step 2:\n",
        "X_train, X_test, y_train, y_test = train_test_split(X, y, test_size=0.2, random_state=42)\n",
        "\n",
        "\n",
        "# Step 1: Create and train Decision Tree model\n",
        "dt = DecisionTreeClassifier(random_state=42)\n",
        "dt.fit(X_train, y_train) #decison tress dont scaling\n",
        "\n",
        "# Step 2: Make predictions and evaluate\n",
        "y_pred_dt = dt.predict(X_test)\n",
        "print(\"Decision Tree Accuracy:\", accuracy_score(y_test, y_pred_dt))"
      ],
      "metadata": {
        "colab": {
          "base_uri": "https://localhost:8080/"
        },
        "id": "v7io5qZvKOcQ",
        "outputId": "0b04dda4-eaa9-45fd-c3ec-436078ee6d77"
      },
      "execution_count": null,
      "outputs": [
        {
          "output_type": "stream",
          "name": "stdout",
          "text": [
            "Decision Tree Accuracy: 0.9473684210526315\n"
          ]
        }
      ]
    },
    {
      "cell_type": "code",
      "source": [
        "from sklearn.ensemble import RandomForestClassifier\n",
        "\n",
        "# Create Random Forest\n",
        "rf = RandomForestClassifier(n_estimators=100, random_state=42)\n",
        "\n",
        "# Train\n",
        "rf.fit(X_train, y_train)\n",
        "\n",
        "# Predict & Evaluate\n",
        "y_pred_rf = rf.predict(X_test)\n",
        "print(\"Random Forest Accuracy:\", accuracy_score(y_test, y_pred_rf))\n"
      ],
      "metadata": {
        "colab": {
          "base_uri": "https://localhost:8080/"
        },
        "id": "dXLRSoH5Tda0",
        "outputId": "84f7475c-74d5-4471-ffc2-963263a0c4f5"
      },
      "execution_count": null,
      "outputs": [
        {
          "output_type": "stream",
          "name": "stdout",
          "text": [
            "Random Forest Accuracy: 0.9649122807017544\n"
          ]
        }
      ]
    },
    {
      "cell_type": "code",
      "source": [
        "print(\"\\nModel Accuracies:\")\n",
        "print(\"Logistic Regression:\", accuracy_score(y_test, y_pred))\n",
        "print(\"kNN:\", accuracy_score(y_test, y_pred_knn))\n",
        "print(\"SVM:\", accuracy_score(y_test, y_pred_svm))\n",
        "print(\"Decision Tree:\", accuracy_score(y_test, y_pred_dt))\n",
        "print(\"Random Forest:\", accuracy_score(y_test, y_pred_rf))\n"
      ],
      "metadata": {
        "colab": {
          "base_uri": "https://localhost:8080/"
        },
        "id": "dfQosQytVjb0",
        "outputId": "1cfaba15-8ce7-48b9-bce2-c83412d0fab6"
      },
      "execution_count": null,
      "outputs": [
        {
          "output_type": "stream",
          "name": "stdout",
          "text": [
            "\n",
            "Model Accuracies:\n",
            "Logistic Regression: 0.9736842105263158\n",
            "kNN: 0.9473684210526315\n",
            "SVM: 0.9824561403508771\n",
            "Decision Tree: 0.9473684210526315\n",
            "Random Forest: 0.9649122807017544\n"
          ]
        }
      ]
    }
  ]
}